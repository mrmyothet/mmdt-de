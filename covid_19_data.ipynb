{
 "cells": [
  {
   "cell_type": "code",
   "execution_count": null,
   "metadata": {},
   "outputs": [],
   "source": [
    "import pandas as pd\n",
    "import requests \n",
    "from pandas.io.json import json_normalize"
   ]
  },
  {
   "cell_type": "code",
   "execution_count": null,
   "metadata": {},
   "outputs": [],
   "source": [
    "url = 'https://raw.githubusercontent.com/owid/covid-19-data/refs/heads/master/public/data/latest/owid-covid-latest.json'\n",
    "response = requests.get(url)\n",
    "data = response.json()\n",
    "\n",
    "# result = pd.json_normalize(data)\n",
    "df = pd.DataFrame(data)\n",
    "result_df = df.transpose()\n",
    "result_df\n"
   ]
  },
  {
   "cell_type": "code",
   "execution_count": null,
   "metadata": {},
   "outputs": [],
   "source": [
    "result_df = pd.DataFrame()\n",
    "\n",
    "for key in data.keys():\n",
    "    row = data[key]\n",
    "    row_df = pd.json_normalize(row)\n",
    "    row_df['country_code'] = key\n",
    "    result_df = pd.concat([result_df, row_df], ignore_index=True)"
   ]
  },
  {
   "cell_type": "code",
   "execution_count": null,
   "metadata": {},
   "outputs": [],
   "source": [
    "assert result_df.shape == (247, 67), \"dataframe is incorrect shape\""
   ]
  },
  {
   "cell_type": "code",
   "execution_count": null,
   "metadata": {},
   "outputs": [],
   "source": [
    "url_countries = \"https://raw.githubusercontent.com/dr5hn/countries-states-cities-database/refs/heads/master/json/countries.json\"\n",
    "response_contries = requests.get(url_countries)\n",
    "raw_data_countries = response_contries.json()\n",
    "df_countries = pd.json_normalize(raw_data_countries)"
   ]
  },
  {
   "cell_type": "code",
   "execution_count": null,
   "metadata": {},
   "outputs": [],
   "source": [
    "df_countries.head()"
   ]
  },
  {
   "cell_type": "code",
   "execution_count": null,
   "metadata": {},
   "outputs": [],
   "source": [
    "df_countries = df_countries[[\"iso3\", \"capital\"]]"
   ]
  },
  {
   "cell_type": "code",
   "execution_count": null,
   "metadata": {},
   "outputs": [],
   "source": [
    "merge_df = result_df.merge(df_countries, left_on=\"country_code\", right_on=\"iso3\")"
   ]
  },
  {
   "cell_type": "code",
   "execution_count": null,
   "metadata": {},
   "outputs": [],
   "source": [
    "capital_col = merge_df['capital']\n",
    "type(capital_col)"
   ]
  },
  {
   "cell_type": "code",
   "execution_count": null,
   "metadata": {},
   "outputs": [],
   "source": [
    "api_key = '10b1f48cb85d9162776f34a3260e4020'\n",
    "city_name = \"Yangon\"\n",
    "\n",
    "city_name_url = f\"https://api.openweathermap.org/data/2.5/weather?q={city_name}&appid={api_key}\"\n",
    "response = requests.get(city_name_url)\n",
    "city_name_json = response.json()\n",
    "json_normalize(city_name_json['temp_min'])"
   ]
  },
  {
   "cell_type": "code",
   "execution_count": null,
   "metadata": {},
   "outputs": [],
   "source": []
  }
 ],
 "metadata": {
  "kernelspec": {
   "display_name": "3.11.8",
   "language": "python",
   "name": "python3"
  },
  "language_info": {
   "codemirror_mode": {
    "name": "ipython",
    "version": 3
   },
   "file_extension": ".py",
   "mimetype": "text/x-python",
   "name": "python",
   "nbconvert_exporter": "python",
   "pygments_lexer": "ipython3",
   "version": "3.11.8"
  }
 },
 "nbformat": 4,
 "nbformat_minor": 2
}
