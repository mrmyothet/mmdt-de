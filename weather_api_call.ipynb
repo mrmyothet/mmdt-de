{
 "cells": [
  {
   "cell_type": "code",
   "execution_count": null,
   "metadata": {},
   "outputs": [],
   "source": [
    "import pandas as pd\n",
    "import requests "
   ]
  },
  {
   "cell_type": "code",
   "execution_count": null,
   "metadata": {},
   "outputs": [],
   "source": [
    "api_key = '10b1f48cb85d9162776f34a3260e4020'\n",
    "city_name = \"Yangon\"\n",
    "\n",
    "city_name_url = f\"https://api.openweathermap.org/data/2.5/weather?q={city_name}&appid={api_key}\"\n",
    "response = requests.get(city_name_url)\n",
    "city_name_json = response.json()\n",
    "city_name_json"
   ]
  }
 ],
 "metadata": {
  "language_info": {
   "name": "python"
  }
 },
 "nbformat": 4,
 "nbformat_minor": 2
}
