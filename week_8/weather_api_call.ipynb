{
 "cells": [
  {
   "cell_type": "code",
   "execution_count": 9,
   "metadata": {},
   "outputs": [],
   "source": [
    "import pandas as pd\n",
    "import requests \n",
    "import os"
   ]
  },
  {
   "cell_type": "code",
   "execution_count": 10,
   "metadata": {},
   "outputs": [
    {
     "data": {
      "text/plain": [
       "True"
      ]
     },
     "execution_count": 10,
     "metadata": {},
     "output_type": "execute_result"
    }
   ],
   "source": [
    "from dotenv import load_dotenv\n",
    "load_dotenv()"
   ]
  },
  {
   "cell_type": "code",
   "execution_count": 11,
   "metadata": {},
   "outputs": [
    {
     "data": {
      "text/plain": [
       "{'coord': {'lon': 96.1561, 'lat': 16.8053},\n",
       " 'weather': [{'id': 804,\n",
       "   'main': 'Clouds',\n",
       "   'description': 'overcast clouds',\n",
       "   'icon': '04d'}],\n",
       " 'base': 'stations',\n",
       " 'main': {'temp': 308.13,\n",
       "  'feels_like': 314.58,\n",
       "  'temp_min': 308.13,\n",
       "  'temp_max': 308.13,\n",
       "  'pressure': 1007,\n",
       "  'humidity': 52,\n",
       "  'sea_level': 1007,\n",
       "  'grnd_level': 1006},\n",
       " 'visibility': 7000,\n",
       " 'wind': {'speed': 1.03, 'deg': 140},\n",
       " 'clouds': {'all': 100},\n",
       " 'dt': 1742110242,\n",
       " 'sys': {'type': 1,\n",
       "  'id': 9322,\n",
       "  'country': 'MM',\n",
       "  'sunrise': 1742082167,\n",
       "  'sunset': 1742125526},\n",
       " 'timezone': 23400,\n",
       " 'id': 1298824,\n",
       " 'name': 'Yangon',\n",
       " 'cod': 200}"
      ]
     },
     "execution_count": 11,
     "metadata": {},
     "output_type": "execute_result"
    }
   ],
   "source": [
    "api_key = os.getenv(\"open_weather_api_key\")\n",
    "city_name = \"Yangon\"\n",
    "\n",
    "city_name_url = f\"https://api.openweathermap.org/data/2.5/weather?q={city_name}&appid={api_key}\"\n",
    "response = requests.get(city_name_url)\n",
    "city_name_json = response.json()\n",
    "city_name_json"
   ]
  }
 ],
 "metadata": {
  "kernelspec": {
   "display_name": "3.12.8",
   "language": "python",
   "name": "python3"
  },
  "language_info": {
   "codemirror_mode": {
    "name": "ipython",
    "version": 3
   },
   "file_extension": ".py",
   "mimetype": "text/x-python",
   "name": "python",
   "nbconvert_exporter": "python",
   "pygments_lexer": "ipython3",
   "version": "3.12.8"
  }
 },
 "nbformat": 4,
 "nbformat_minor": 2
}
